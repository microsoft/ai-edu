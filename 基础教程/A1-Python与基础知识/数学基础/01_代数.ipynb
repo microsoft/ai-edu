{
 "cells": [
  {
   "cell_type": "markdown",
   "metadata": {
    "collapsed": true,
    "slideshow": {
     "slide_type": "slide"
    }
   },
   "source": [
    "# 解方程\n",
    "\n",
    "## 简单的一元一次方程\n",
    "\n",
    "\n",
    "\\begin{equation}x + 16 = -25\\end{equation}\n",
    "\n",
    "\n",
    "\\begin{equation}x + 16 - 16 = -25 - 16\\end{equation}\n",
    "\n",
    "\n",
    "\\begin{equation}x = -25 - 16\\end{equation}\n",
    "\n",
    "\n",
    "\\begin{equation}x = -41\\end{equation}"
   ]
  },
  {
   "cell_type": "code",
   "execution_count": 49,
   "metadata": {
    "slideshow": {
     "slide_type": "subslide"
    }
   },
   "outputs": [
    {
     "data": {
      "text/plain": [
       "True"
      ]
     },
     "execution_count": 49,
     "metadata": {},
     "output_type": "execute_result"
    }
   ],
   "source": [
    "x = -41                # 验证方程的解\n",
    "x + 16 == -25"
   ]
  },
  {
   "cell_type": "markdown",
   "metadata": {
    "slideshow": {
     "slide_type": "subslide"
    }
   },
   "source": [
    "## 带系数的方程\n",
    "\n",
    "\\begin{equation}3x - 2 = 10 \\end{equation}\n",
    "\n",
    "\\begin{equation}3x - 2 + 2 = 10 + 2 \\end{equation}\n",
    "\n",
    "\n",
    "\\begin{equation}3x = 12 \\end{equation}\n",
    "\n",
    "\\begin{equation}x = 4\\end{equation}"
   ]
  },
  {
   "cell_type": "code",
   "execution_count": 50,
   "metadata": {
    "slideshow": {
     "slide_type": "subslide"
    }
   },
   "outputs": [
    {
     "data": {
      "text/plain": [
       "True"
      ]
     },
     "execution_count": 50,
     "metadata": {},
     "output_type": "execute_result"
    }
   ],
   "source": [
    "x = 4                  # 代入 x = 4\n",
    "3 * x - 2 == 10"
   ]
  },
  {
   "cell_type": "markdown",
   "metadata": {
    "slideshow": {
     "slide_type": "subslide"
    }
   },
   "source": [
    "## 系数是分数的方程\n",
    "\n",
    "\\begin{equation}\\frac{x}{3} + 1 = 16 \\end{equation}\n",
    "\n",
    "\n",
    "\\begin{equation}\\frac{x}{3} = 15 \\end{equation}\n",
    "\n",
    "\n",
    "\\begin{equation}\\frac{3}{1} \\cdot \\frac{x}{3} = 15 \\cdot 3 \\end{equation}\n",
    "\n",
    "\n",
    "\\begin{equation}x = 45 \\end{equation}"
   ]
  },
  {
   "cell_type": "code",
   "execution_count": 51,
   "metadata": {
    "slideshow": {
     "slide_type": "subslide"
    }
   },
   "outputs": [
    {
     "data": {
      "text/plain": [
       "True"
      ]
     },
     "execution_count": 51,
     "metadata": {},
     "output_type": "execute_result"
    }
   ],
   "source": [
    "x = 45\n",
    "x/3 + 1 == 16"
   ]
  },
  {
   "cell_type": "markdown",
   "metadata": {
    "slideshow": {
     "slide_type": "subslide"
    }
   },
   "source": [
    "## 需要合并同类项的例子\n",
    "\n",
    "\\begin{equation}3x + 2 = 5x - 1 \\end{equation}\n",
    "\n",
    "\n",
    "\\begin{equation}3x + 3 = 5x \\end{equation}\n",
    "\n",
    "\n",
    "\\begin{equation}3 = 2x \\end{equation}\n",
    "\n",
    "\n",
    "\\begin{equation}\\frac{3}{2} = x \\end{equation}\n",
    "\n",
    "\n",
    "\\begin{equation}x = \\frac{3}{2} \\end{equation}\n",
    "\n",
    "\n",
    "\\begin{equation}x = 1\\frac{1}{2} \\end{equation}"
   ]
  },
  {
   "cell_type": "code",
   "execution_count": 52,
   "metadata": {
    "slideshow": {
     "slide_type": "subslide"
    }
   },
   "outputs": [
    {
     "data": {
      "text/plain": [
       "True"
      ]
     },
     "execution_count": 52,
     "metadata": {},
     "output_type": "execute_result"
    }
   ],
   "source": [
    "x = 1.5\n",
    "3*x + 2 == 5*x -1"
   ]
  },
  {
   "cell_type": "markdown",
   "metadata": {
    "slideshow": {
     "slide_type": "subslide"
    }
   },
   "source": [
    "## 一元方程练习\n",
    "\n",
    "\\begin{equation}\\textbf{4(x + 2)} + \\textbf{3(x - 2)} = 16 \\end{equation}\n",
    "\n",
    "\\begin{equation}4x + 8 + 3x - 6 = 16 \\end{equation}\n",
    "\n",
    "\n",
    "\\begin{equation}7x + 2 = 16 \\end{equation}\n",
    "\n",
    "\n",
    "\\begin{equation}7x = 14 \\end{equation}\n",
    "\n",
    "\n",
    "\\begin{equation}\\frac{7x}{7} = \\frac{14}{7} \\end{equation}\n",
    "\n",
    "\n",
    "\\begin{equation}x = 2 \\end{equation}"
   ]
  },
  {
   "cell_type": "code",
   "execution_count": 53,
   "metadata": {
    "slideshow": {
     "slide_type": "subslide"
    }
   },
   "outputs": [
    {
     "data": {
      "text/plain": [
       "True"
      ]
     },
     "execution_count": 53,
     "metadata": {},
     "output_type": "execute_result"
    }
   ],
   "source": [
    "x = 2\n",
    "4 * (x + 2) + 3 * (x - 2) == 16"
   ]
  },
  {
   "cell_type": "markdown",
   "metadata": {
    "slideshow": {
     "slide_type": "slide"
    }
   },
   "source": [
    "# 线性方程\n",
    "\n",
    "\n",
    "## 例子\n",
    "\n",
    "\n",
    "\\begin{equation}2y + 3 = 3x - 1 \\end{equation}\n",
    "\n",
    "\n",
    "\\begin{equation}2y + 4 = 3x \\end{equation}\n",
    "\n",
    "\n",
    "\\begin{equation}2y = 3x - 4 \\end{equation}\n",
    "\n",
    "\n",
    "\\begin{equation}y = \\frac{3x - 4}{2} \\end{equation}"
   ]
  },
  {
   "cell_type": "code",
   "execution_count": 54,
   "metadata": {
    "slideshow": {
     "slide_type": "subslide"
    }
   },
   "outputs": [
    {
     "name": "stdout",
     "output_type": "stream",
     "text": [
      "  x      y\n",
      "---  -----\n",
      "-10  -17\n",
      " -9  -15.5\n",
      " -8  -14\n",
      " -7  -12.5\n",
      " -6  -11\n",
      " -5   -9.5\n",
      " -4   -8\n",
      " -3   -6.5\n",
      " -2   -5\n",
      " -1   -3.5\n",
      "  0   -2\n",
      "  1   -0.5\n",
      "  2    1\n",
      "  3    2.5\n",
      "  4    4\n",
      "  5    5.5\n",
      "  6    7\n",
      "  7    8.5\n",
      "  8   10\n",
      "  9   11.5\n",
      " 10   13\n"
     ]
    }
   ],
   "source": [
    "import numpy as np\n",
    "from tabulate import tabulate\n",
    "\n",
    "x = np.array(range(-10, 11))  # 从 -10 到 10 的21个数据点\n",
    "y = (3 * x - 4) / 2           # 对应的函数值\n",
    "\n",
    "print(tabulate(np.column_stack((x,y)), headers=['x', 'y']))"
   ]
  },
  {
   "cell_type": "code",
   "execution_count": 55,
   "metadata": {
    "slideshow": {
     "slide_type": "skip"
    }
   },
   "outputs": [],
   "source": [
    "from IPython.core.interactiveshell import InteractiveShell\n",
    "InteractiveShell.ast_node_interactivity = \"last_expr\"\n",
    "# %matplotlib inline"
   ]
  },
  {
   "cell_type": "code",
   "execution_count": 56,
   "metadata": {
    "slideshow": {
     "slide_type": "subslide"
    }
   },
   "outputs": [
    {
     "data": {
      "image/png": "[encoded data removed]",
      "text/plain": [
       "<Figure size 432x288 with 1 Axes>"
      ]
     },
     "metadata": {
      "needs_background": "light"
     },
     "output_type": "display_data"
    }
   ],
   "source": [
    "from matplotlib import pyplot as plt\n",
    "\n",
    "plt.plot(x, y, color=\"grey\", marker = \"o\")\n",
    "plt.xlabel('x')\n",
    "plt.ylabel('y')\n",
    "plt.grid()\n",
    "plt.show()"
   ]
  },
  {
   "cell_type": "markdown",
   "metadata": {
    "slideshow": {
     "slide_type": "subslide"
    }
   },
   "source": [
    "## 截距"
   ]
  },
  {
   "cell_type": "code",
   "execution_count": 57,
   "metadata": {
    "slideshow": {
     "slide_type": "subslide"
    }
   },
   "outputs": [
    {
     "data": {
      "image/png": "[encoded data removed]",
      "text/plain": [
       "<Figure size 432x288 with 1 Axes>"
      ]
     },
     "metadata": {
      "needs_background": "light"
     },
     "output_type": "display_data"
    }
   ],
   "source": [
    "plt.plot(x, y, color=\"grey\")\n",
    "plt.xlabel('x')\n",
    "plt.ylabel('y')\n",
    "plt.grid()\n",
    "plt.axhline()                # 画出坐标轴\n",
    "plt.axvline()\n",
    "plt.show()"
   ]
  },
  {
   "cell_type": "markdown",
   "metadata": {
    "slideshow": {
     "slide_type": "subslide"
    }
   },
   "source": [
    "- x轴上的截距\n",
    "\n",
    "\\begin{equation}0 = \\frac{3x - 4}{2} \\end{equation}\n",
    "\n",
    "\n",
    "\\begin{equation}\\frac{3x - 4}{2} = 0 \\end{equation}\n",
    "\n",
    "\n",
    "\\begin{equation}3x - 4 = 0 \\end{equation}\n",
    "\n",
    "\n",
    "\\begin{equation}3x = 4 \\end{equation}\n",
    "\n",
    "\n",
    "\\begin{equation}x = \\frac{4}{3} \\end{equation}\n",
    "\n",
    "\n",
    "\\begin{equation}x = 1\\frac{1}{3} \\end{equation}\n",
    "\n",
    "- y轴上的截距\n",
    "\n",
    "\\begin{equation}y = \\frac{3\\cdot0 - 4}{2} \\end{equation}\n",
    "\n",
    "\n",
    "\\begin{equation}y = \\frac{-4}{2} \\end{equation}\n",
    "\n",
    "\n",
    "\\begin{equation}y = -2 \\end{equation}"
   ]
  },
  {
   "cell_type": "code",
   "execution_count": 58,
   "metadata": {
    "slideshow": {
     "slide_type": "subslide"
    }
   },
   "outputs": [
    {
     "data": {
      "image/png": "[encoded data removed]",
      "text/plain": [
       "<Figure size 432x288 with 1 Axes>"
      ]
     },
     "metadata": {
      "needs_background": "light"
     },
     "output_type": "display_data"
    }
   ],
   "source": [
    "plt.plot(x, y, color=\"grey\")\n",
    "plt.xlabel('x')\n",
    "plt.ylabel('y')\n",
    "plt.grid()\n",
    "plt.axhline()\n",
    "plt.axvline()\n",
    "plt.annotate('x',(1.333, 0)) # 标出截距点\n",
    "plt.annotate('y',(0,-2))\n",
    "plt.show()"
   ]
  },
  {
   "cell_type": "markdown",
   "metadata": {
    "slideshow": {
     "slide_type": "subslide"
    }
   },
   "source": [
    "> 截距的作用是明显的：两点成一线。连接截距就可以画出函数曲线。"
   ]
  },
  {
   "cell_type": "markdown",
   "metadata": {
    "slideshow": {
     "slide_type": "subslide"
    }
   },
   "source": [
    "## 斜率\n",
    "\n",
    "\\begin{equation}slope = \\frac{\\Delta{y}}{\\Delta{x}} \\end{equation}\n",
    "\n",
    "\n",
    "\\begin{equation}m = \\frac{y_{2} - y_{1}}{x_{2} - x_{1}} \\end{equation}\n",
    "\n",
    "\n",
    "\\begin{equation}m = \\frac{7 - -2}{6 - 0} \\end{equation}\n",
    "\n",
    "\n",
    "\\begin{equation}m = \\frac{7 + 2}{6 - 0} \\end{equation}\n",
    "\n",
    "\\begin{equation}m = 1.5 \\end{equation}"
   ]
  },
  {
   "cell_type": "code",
   "execution_count": 59,
   "metadata": {
    "slideshow": {
     "slide_type": "subslide"
    }
   },
   "outputs": [
    {
     "data": {
      "image/png": "[encoded data removed]",
      "text/plain": [
       "<Figure size 432x288 with 1 Axes>"
      ]
     },
     "metadata": {
      "needs_background": "light"
     },
     "output_type": "display_data"
    }
   ],
   "source": [
    "plt.plot(x, y, color=\"grey\")\n",
    "plt.xlabel('x')\n",
    "plt.ylabel('y')\n",
    "plt.grid()\n",
    "plt.axhline()\n",
    "plt.axvline()\n",
    "m = 1.5\n",
    "xInt = 4 / 3\n",
    "yInt = -2\n",
    "mx = [0, xInt]\n",
    "my = [yInt, yInt + m * xInt]\n",
    "plt.plot(mx, my, color='red', lw=5)  # 用红色标出\n",
    "plt.show()"
   ]
  },
  {
   "cell_type": "code",
   "execution_count": 60,
   "metadata": {
    "slideshow": {
     "slide_type": "subslide"
    }
   },
   "outputs": [
    {
     "data": {
      "image/png": "[encoded data removed]",
      "text/plain": [
       "<Figure size 432x288 with 1 Axes>"
      ]
     },
     "metadata": {
      "needs_background": "light"
     },
     "output_type": "display_data"
    }
   ],
   "source": [
    "plt.grid()                             # 放大图\n",
    "plt.axhline()\n",
    "plt.axvline()\n",
    "m = 1.5\n",
    "xInt = 4 / 3\n",
    "yInt = -2\n",
    "mx = [0, xInt]\n",
    "my = [yInt, yInt + m * xInt]\n",
    "plt.plot(mx, my, color='red', lw=5) \n",
    "plt.show()"
   ]
  },
  {
   "cell_type": "markdown",
   "metadata": {
    "slideshow": {
     "slide_type": "subslide"
    }
   },
   "source": [
    "### 直线的斜率、截距形式\n",
    "\n",
    "\\begin{equation}y = mx + b \\end{equation}\n",
    "\n",
    "\\begin{equation}y = \\frac{3x - 4}{2} \\end{equation}\n",
    "\n",
    "\\begin{equation}y = 1\\frac{1}{2}x + -2 \\end{equation}"
   ]
  },
  {
   "cell_type": "code",
   "execution_count": 61,
   "metadata": {
    "slideshow": {
     "slide_type": "subslide"
    }
   },
   "outputs": [
    {
     "data": {
      "image/png": "[encoded data removed]",
      "text/plain": [
       "<Figure size 432x288 with 1 Axes>"
      ]
     },
     "metadata": {
      "needs_background": "light"
     },
     "output_type": "display_data"
    }
   ],
   "source": [
    "m = 1.5\n",
    "yInt = -2\n",
    "\n",
    "x = np.array(range(-10, 11))\n",
    "y2 = m * x + yInt                       # 斜率截距形式\n",
    "\n",
    "plt.plot(x, y2, color=\"grey\")\n",
    "plt.xlabel('x')\n",
    "plt.ylabel('y')\n",
    "plt.grid()\n",
    "plt.axhline()\n",
    "plt.axvline()\n",
    "\n",
    "plt.annotate('y', (0, yInt))\n",
    "plt.show()"
   ]
  },
  {
   "cell_type": "markdown",
   "metadata": {
    "slideshow": {
     "slide_type": "slide"
    }
   },
   "source": [
    "# 线形方程组\n",
    "> 解的含义：直线的交点\n",
    "\n",
    "\\begin{equation}x + y = 16 \\end{equation}\n",
    "\\begin{equation}10x + 25y = 250 \\end{equation}\n"
   ]
  },
  {
   "cell_type": "code",
   "execution_count": 62,
   "metadata": {
    "slideshow": {
     "slide_type": "subslide"
    }
   },
   "outputs": [
    {
     "data": {
      "image/png": "[encoded data removed]",
      "text/plain": [
       "<Figure size 432x288 with 1 Axes>"
      ]
     },
     "metadata": {
      "needs_background": "light"
     },
     "output_type": "display_data"
    }
   ],
   "source": [
    "l1p1 = [16, 0]  # 线1点1\n",
    "l1p2 = [0, 16]  # 线1点2\n",
    "\n",
    "\n",
    "l2p1 = [25,0]   # 线2点1\n",
    "l2p2 = [0,10]   # 线2点2\n",
    "\n",
    "\n",
    "plt.plot(l1p1,l1p2, color='blue')\n",
    "plt.plot(l2p1, l2p2, color=\"orange\")\n",
    "plt.xlabel('x')\n",
    "plt.ylabel('y')\n",
    "plt.grid()\n",
    "\n",
    "plt.show()"
   ]
  },
  {
   "cell_type": "markdown",
   "metadata": {
    "slideshow": {
     "slide_type": "subslide"
    }
   },
   "source": [
    "### 解线形方程组 （消去法）\n",
    "\\begin{equation}x + y = 16 \\end{equation}\n",
    "\\begin{equation}10x + 25y = 250 \\end{equation}\n",
    "\n",
    "\\begin{equation}-10(x + y) = -10(16) \\end{equation}\n",
    "\\begin{equation}10x + 25y = 250 \\end{equation}\n",
    "\n",
    "\\begin{equation}-10x + -10y = -160 \\end{equation}\n",
    "\\begin{equation}10x + 25y = 250 \\end{equation}\n",
    "\n",
    "\\begin{equation}15y = 90 \\end{equation}\n",
    "\\begin{equation}y = \\frac{90}{15} \\end{equation}\n",
    "\\begin{equation}y = 6 \\end{equation}\n",
    "\n",
    "\\begin{equation}x + 6 = 16 \\end{equation}\n",
    "\\begin{equation}x = 10 \\end{equation}"
   ]
  },
  {
   "cell_type": "code",
   "execution_count": 63,
   "metadata": {
    "slideshow": {
     "slide_type": "subslide"
    }
   },
   "outputs": [
    {
     "name": "stdout",
     "output_type": "stream",
     "text": [
      "True\n"
     ]
    }
   ],
   "source": [
    "x = 10\n",
    "y = 6\n",
    "print ((x + y == 16) & ((10 * x) + (25 * y) == 250))"
   ]
  },
  {
   "cell_type": "markdown",
   "metadata": {
    "slideshow": {
     "slide_type": "slide"
    }
   },
   "source": [
    "# 指数、根和对数\n",
    "\n"
   ]
  },
  {
   "cell_type": "markdown",
   "metadata": {
    "slideshow": {
     "slide_type": "subslide"
    }
   },
   "source": [
    "\n",
    "## 指数\n",
    "\\begin{equation}2^{2} = 2 \\cdot 2 = 4\\end{equation}\n",
    "\n",
    "\n",
    "\\begin{equation}2^{3} = 2 \\cdot 2 \\cdot 2 = 8\\end{equation}\n"
   ]
  },
  {
   "cell_type": "code",
   "execution_count": 64,
   "metadata": {
    "slideshow": {
     "slide_type": "subslide"
    }
   },
   "outputs": [
    {
     "name": "stdout",
     "output_type": "stream",
     "text": [
      "125\n"
     ]
    }
   ],
   "source": [
    "x = 5**3\n",
    "print(x)"
   ]
  },
  {
   "cell_type": "markdown",
   "metadata": {
    "slideshow": {
     "slide_type": "subslide"
    }
   },
   "source": [
    "## 根\n",
    "\n",
    "\\begin{equation}?^{2} = 9 \\end{equation}\n",
    "\n",
    "\\begin{equation}\\sqrt{9} = 3 \\end{equation}\n",
    "\n",
    "\\begin{equation}\\sqrt[3]{64} = 4 \\end{equation}"
   ]
  },
  {
   "cell_type": "code",
   "execution_count": 65,
   "metadata": {
    "slideshow": {
     "slide_type": "subslide"
    }
   },
   "outputs": [
    {
     "name": "stdout",
     "output_type": "stream",
     "text": [
      "3.0\n",
      "4\n"
     ]
    }
   ],
   "source": [
    "import math\n",
    "\n",
    "x = math.sqrt(9)            # 平方根\n",
    "print (x)\n",
    "\n",
    "cr = round(64 ** (1. / 3))   # 立方根\n",
    "print(cr)"
   ]
  },
  {
   "cell_type": "markdown",
   "metadata": {
    "slideshow": {
     "slide_type": "subslide"
    }
   },
   "source": [
    "### 根是分数形式的指数\n",
    "\n",
    "\\begin{equation} 8^{\\frac{1}{3}} = \\sqrt[3]{8} = 2 \\end{equation}\n",
    "\n",
    "\\begin{equation} 9^{\\frac{1}{2}} = \\sqrt{9} = 3 \\end{equation}"
   ]
  },
  {
   "cell_type": "code",
   "execution_count": 66,
   "metadata": {
    "slideshow": {
     "slide_type": "subslide"
    }
   },
   "outputs": [
    {
     "name": "stdout",
     "output_type": "stream",
     "text": [
      "3.0\n",
      "3.0\n"
     ]
    }
   ],
   "source": [
    "print (9**0.5)\n",
    "print (math.sqrt(9))"
   ]
  },
  {
   "cell_type": "markdown",
   "metadata": {
    "slideshow": {
     "slide_type": "subslide"
    }
   },
   "source": [
    "## 对数\n",
    "> 对数是指数的逆运算\n",
    "\n",
    "\\begin{equation}4^{?} = 16 \\end{equation}\n",
    "\n",
    "\\begin{equation}log_{4}(16) = 2 \\end{equation}"
   ]
  },
  {
   "cell_type": "code",
   "execution_count": 67,
   "metadata": {
    "slideshow": {
     "slide_type": "subslide"
    }
   },
   "outputs": [
    {
     "name": "stdout",
     "output_type": "stream",
     "text": [
      "2.0\n"
     ]
    }
   ],
   "source": [
    "x = math.log(16, 4)\n",
    "print(x)"
   ]
  },
  {
   "cell_type": "markdown",
   "metadata": {
    "slideshow": {
     "slide_type": "subslide"
    }
   },
   "source": [
    "### 以10为底的对数\n",
    "\n",
    "\\begin{equation}log(64) = 1.8061 \\end{equation}\n",
    "\n",
    "### 自然对数\n",
    "\\begin{equation}log_{e}(64) = ln(64) = 4.1589 \\end{equation}"
   ]
  },
  {
   "cell_type": "code",
   "execution_count": 68,
   "metadata": {
    "slideshow": {
     "slide_type": "subslide"
    }
   },
   "outputs": [
    {
     "name": "stdout",
     "output_type": "stream",
     "text": [
      "1.806179973983887\n",
      "4.1588830833596715\n"
     ]
    }
   ],
   "source": [
    "print(math.log10(64))\n",
    "\n",
    "print (math.log(64))"
   ]
  },
  {
   "cell_type": "markdown",
   "metadata": {
    "slideshow": {
     "slide_type": "subslide"
    }
   },
   "source": [
    "## 幂运算 （合并同类项）\n",
    "\n",
    "\\begin{equation}2y = 2x^{4} ( \\frac{x^{2} + 2x^{2}}{x^{3}} ) \\end{equation}\n",
    "\n",
    "\n",
    "\\begin{equation}2y = 2x^{4} ( \\frac{3x^{2}}{x^{3}} ) \\end{equation}\n",
    "\n",
    "\n",
    "\\begin{equation}2y = 2x^{4} ( 3x^{-1} ) \\end{equation}\n",
    "\n",
    "\n",
    "\\begin{equation}2y = 6x^{3} \\end{equation}\n",
    "\n",
    "\n",
    "\\begin{equation}y = 3x^{3} \\end{equation}"
   ]
  },
  {
   "cell_type": "code",
   "execution_count": 69,
   "metadata": {
    "slideshow": {
     "slide_type": "subslide"
    }
   },
   "outputs": [
    {
     "name": "stdout",
     "output_type": "stream",
     "text": [
      "  x      y\n",
      "---  -----\n",
      "-10  -3000\n",
      " -9  -2187\n",
      " -8  -1536\n",
      " -7  -1029\n",
      " -6   -648\n",
      " -5   -375\n",
      " -4   -192\n",
      " -3    -81\n",
      " -2    -24\n",
      " -1     -3\n",
      "  0      0\n",
      "  1      3\n",
      "  2     24\n",
      "  3     81\n",
      "  4    192\n",
      "  5    375\n",
      "  6    648\n",
      "  7   1029\n",
      "  8   1536\n",
      "  9   2187\n",
      " 10   3000\n"
     ]
    }
   ],
   "source": [
    "x = np.array(range(-10, 11))\n",
    "y3 = 3 * x ** 3\n",
    "\n",
    "print(tabulate(np.column_stack((x, y3)), headers=['x', 'y']))"
   ]
  },
  {
   "cell_type": "code",
   "execution_count": 70,
   "metadata": {
    "slideshow": {
     "slide_type": "subslide"
    }
   },
   "outputs": [
    {
     "data": {
      "image/png": "[encoded data removed]",
      "text/plain": [
       "<Figure size 432x288 with 1 Axes>"
      ]
     },
     "metadata": {
      "needs_background": "light"
     },
     "output_type": "display_data"
    }
   ],
   "source": [
    "plt.plot(x, y3, color=\"magenta\")  # y3是曲线\n",
    "plt.xlabel('x')\n",
    "plt.ylabel('y')\n",
    "plt.grid()\n",
    "plt.axhline()\n",
    "plt.axvline()\n",
    "plt.show()"
   ]
  },
  {
   "cell_type": "markdown",
   "metadata": {
    "slideshow": {
     "slide_type": "subslide"
    }
   },
   "source": [
    "### 看一个成指数增长的例子\n",
    "\n",
    "\\begin{equation}y = 2^{x} \\end{equation}"
   ]
  },
  {
   "cell_type": "code",
   "execution_count": 71,
   "metadata": {
    "slideshow": {
     "slide_type": "subslide"
    }
   },
   "outputs": [
    {
     "data": {
      "image/png": "[encoded data removed]",
      "text/plain": [
       "<Figure size 432x288 with 1 Axes>"
      ]
     },
     "metadata": {
      "needs_background": "light"
     },
     "output_type": "display_data"
    }
   ],
   "source": [
    "y4 = 2.0**x\n",
    "plt.plot(x, y4, color=\"magenta\")\n",
    "plt.xlabel('x')\n",
    "plt.ylabel('y')\n",
    "plt.grid()\n",
    "plt.axhline()\n",
    "plt.axvline()\n",
    "plt.show()"
   ]
  },
  {
   "cell_type": "markdown",
   "metadata": {
    "slideshow": {
     "slide_type": "subslide"
    }
   },
   "source": [
    "### 复利计算\n",
    "\n",
    "> 存款100，年利5%，20年后余额是多少（记复利）\n",
    "\n",
    "\\begin{equation}y1 = 100 + (100 \\cdot 0.05) \\end{equation}\n",
    "\n",
    "\n",
    "\\begin{equation}y1 = 100 \\cdot 1.05 \\end{equation}\n",
    "\n",
    "\n",
    "\\begin{equation}y2 = 100 \\cdot 1.05 \\cdot 1.05 \\end{equation}\n",
    "\n",
    "\n",
    "\\begin{equation}y2 = 100 \\cdot 1.05^{2} \\end{equation}\n",
    "\n",
    "\n",
    "\\begin{equation}y20 = 100 \\cdot 1.05^{20} \\end{equation}"
   ]
  },
  {
   "cell_type": "code",
   "execution_count": 72,
   "metadata": {
    "slideshow": {
     "slide_type": "subslide"
    }
   },
   "outputs": [
    {
     "data": {
      "image/png": "[encoded data removed]",
      "text/plain": [
       "<Figure size 432x288 with 1 Axes>"
      ]
     },
     "metadata": {
      "needs_background": "light"
     },
     "output_type": "display_data"
    }
   ],
   "source": [
    "year = np.array(range(1, 21))                      # 年份\n",
    "balance = 100 * (1.05 ** year)                     # 余额\n",
    "plt.plot(year, balance, color=\"green\")\n",
    "plt.xlabel('Year')\n",
    "plt.ylabel('Balance')\n",
    "plt.show()"
   ]
  },
  {
   "cell_type": "markdown",
   "metadata": {
    "slideshow": {
     "slide_type": "slide"
    }
   },
   "source": [
    "# 多项式\n",
    "\n",
    "\\begin{equation}12x^{3} + 2x - 16 \\end{equation}\n",
    "\n",
    "三项：\n",
    "- 12x<sup>3</sup>\n",
    "- 2x\n",
    "- -16\n",
    "\n",
    "\n",
    "- 两个系数(12 和 2) 和一个常量-16\n",
    "- 变量 x\n",
    "- 指数 <sup>3</sup>"
   ]
  },
  {
   "cell_type": "markdown",
   "metadata": {
    "slideshow": {
     "slide_type": "subslide"
    }
   },
   "source": [
    "## 标准形式\n",
    "随着x的指数增长排列（升幂）\n",
    "\\begin{equation}3x + 4xy^{2} - 3 + x^{3} \\end{equation}\n",
    "\n",
    "指数最高项在前（降幂）\n",
    "\\begin{equation}x^{3} + 4xy^{2} + 3x - 3 \\end{equation}"
   ]
  },
  {
   "cell_type": "markdown",
   "metadata": {
    "slideshow": {
     "slide_type": "subslide"
    }
   },
   "source": [
    "\n",
    "## 多项式化简\n",
    "\n",
    "\n",
    "\\begin{equation}x^{3} + 2x^{3} - 3x - x + 8 - 3 \\end{equation}\n",
    "\n",
    "\n",
    "\\begin{equation}3x^{3} - 4x + 5 \\end{equation}\n"
   ]
  },
  {
   "cell_type": "code",
   "execution_count": 73,
   "metadata": {
    "slideshow": {
     "slide_type": "subslide"
    }
   },
   "outputs": [
    {
     "data": {
      "text/plain": [
       "True"
      ]
     },
     "execution_count": 73,
     "metadata": {},
     "output_type": "execute_result"
    }
   ],
   "source": [
    "from random import randint\n",
    "x = randint(1,100)                  # 取任意值验证多项式化简\n",
    "\n",
    "(x**3 + 2*x**3 - 3*x - x + 8 - 3) == (3*x**3 - 4*x + 5)"
   ]
  },
  {
   "cell_type": "markdown",
   "metadata": {
    "slideshow": {
     "slide_type": "subslide"
    }
   },
   "source": [
    "## 多项式相加\n",
    "\n",
    "\\begin{equation}(3x^{3} - 4x + 5)   +   (2x^{3} + 3x^{2} - 2x + 2) \\end{equation}\n",
    "\n",
    "\n",
    "\\begin{equation}3x^{3} + 2x^{3} + 3x^{2} - 4x -2x + 5 + 2 \\end{equation}\n",
    "\n",
    "\n",
    "\\begin{equation}5x^{3} + 3x^{2} - 6x + 7 \\end{equation}"
   ]
  },
  {
   "cell_type": "code",
   "execution_count": 74,
   "metadata": {
    "slideshow": {
     "slide_type": "subslide"
    }
   },
   "outputs": [
    {
     "data": {
      "text/plain": [
       "True"
      ]
     },
     "execution_count": 74,
     "metadata": {},
     "output_type": "execute_result"
    }
   ],
   "source": [
    "x = randint(1,100)\n",
    "\n",
    "\n",
    "(3*x**3 - 4*x + 5) + (2*x**3 + 3*x**2 - 2*x + 2) == 5*x**3 + 3*x**2 - 6*x + 7"
   ]
  },
  {
   "cell_type": "markdown",
   "metadata": {
    "slideshow": {
     "slide_type": "subslide"
    }
   },
   "source": [
    "## 多项式相减\n",
    "\n",
    "\\begin{equation}(2x^{2} - 4x + 5)   -   (x^{2} - 2x + 2) \\end{equation}\n",
    "\n",
    "\n",
    "\\begin{equation}(2x^{2} - 4x + 5)   +   (-x^{2} + 2x - 2) \\end{equation}\n",
    "\n",
    "\n",
    "\\begin{equation}2x^{2} + -x^{2} + -4x + 2x + 5 + -2 \\end{equation}\n",
    "\n",
    "\n",
    "\\begin{equation}x^{2} - 2x + 3 \\end{equation}"
   ]
  },
  {
   "cell_type": "code",
   "execution_count": 75,
   "metadata": {
    "slideshow": {
     "slide_type": "subslide"
    }
   },
   "outputs": [
    {
     "data": {
      "text/plain": [
       "True"
      ]
     },
     "execution_count": 75,
     "metadata": {},
     "output_type": "execute_result"
    }
   ],
   "source": [
    "from random import randint\n",
    "x = randint(1,100)\n",
    "\n",
    "(2*x**2 - 4*x + 5) - (x**2 - 2*x + 2) == x**2 - 2*x + 3"
   ]
  },
  {
   "cell_type": "markdown",
   "metadata": {
    "slideshow": {
     "slide_type": "subslide"
    }
   },
   "source": [
    "## 多项式相乘\n",
    "\n",
    "1. 用第一个多项式的每一项乘以第二个多项式\n",
    "2. 把相乘的结果合并同类项\n",
    "\n",
    "\n",
    "\\begin{equation}(x^{4} + 2)(2x^{2} + 3x - 3) \\end{equation}\n",
    "\n",
    "\\begin{equation}2x^{6} + 3x^{5} - 3x^{4} + 4x^{2} + 6x - 6 \\end{equation}"
   ]
  },
  {
   "cell_type": "code",
   "execution_count": 76,
   "metadata": {
    "slideshow": {
     "slide_type": "subslide"
    }
   },
   "outputs": [
    {
     "data": {
      "text/plain": [
       "True"
      ]
     },
     "execution_count": 76,
     "metadata": {},
     "output_type": "execute_result"
    }
   ],
   "source": [
    "x = randint(1,100)\n",
    "\n",
    "(x**4 + 2)*(2*x**2 + 3*x - 3) == 2*x**6 + 3*x**5 - 3*x**4 + 4*x**2 + 6*x - 6"
   ]
  },
  {
   "cell_type": "markdown",
   "metadata": {
    "slideshow": {
     "slide_type": "subslide"
    }
   },
   "source": [
    "## 多项式相除\n",
    "\n",
    "### 简单例子\n",
    "\n",
    "\\begin{equation}(4x + 6x^{2}) \\div 2x \\end{equation}\n",
    "\n",
    "\n",
    "\\begin{equation}\\frac{4x + 6x^{2}}{2x} \\end{equation}\n",
    "\n",
    "\\begin{equation}\\frac{4x}{2x} + \\frac{6x^{2}}{2x}\\end{equation}\n",
    "\n",
    "\\begin{equation}2 + 3x\\end{equation}"
   ]
  },
  {
   "cell_type": "code",
   "execution_count": 77,
   "metadata": {
    "slideshow": {
     "slide_type": "subslide"
    }
   },
   "outputs": [
    {
     "data": {
      "text/plain": [
       "True"
      ]
     },
     "execution_count": 77,
     "metadata": {},
     "output_type": "execute_result"
    }
   ],
   "source": [
    "x = randint(1,100)\n",
    "\n",
    "(4*x + 6*x**2) / (2*x) == 2 + 3*x"
   ]
  },
  {
   "cell_type": "markdown",
   "metadata": {
    "slideshow": {
     "slide_type": "subslide"
    }
   },
   "source": [
    "### 长除法\n",
    "\n",
    "\\begin{equation}(x^{2} + 2x - 3) \\div (x - 2) \\end{equation}\n",
    "\n",
    "\\begin{equation} x - 2 |\\overline{x^{2} + 2x - 3} \\end{equation}\n",
    "\n",
    "\\begin{equation} \\;\\;\\;\\;x \\end{equation}\n",
    "\\begin{equation}x - 2 |\\overline{x^{2} + 2x - 3} \\end{equation}\n",
    "\\begin{equation} \\;x^{2} -2x \\end{equation}\n",
    "\n",
    "\\begin{equation} \\;\\;\\;\\;x \\end{equation}\n",
    "\\begin{equation}x - 2 |\\overline{x^{2} + 2x - 3} \\end{equation}\n",
    "\\begin{equation}- (x^{2} -2x) \\end{equation}\n",
    "\\begin{equation}\\;\\;\\;\\;\\;\\overline{\\;\\;\\;\\;\\;\\;\\;\\;\\;\\;4x -3} \\end{equation}\n",
    "\n",
    "\\begin{equation} \\;\\;\\;\\;\\;\\;\\;\\;x + 4 \\end{equation}\n",
    "\\begin{equation}x - 2 |\\overline{x^{2} + 2x - 3} \\end{equation}\n",
    "\\begin{equation}- (x^{2} -2x) \\end{equation}\n",
    "\\begin{equation}\\;\\;\\;\\;\\;\\overline{\\;\\;\\;\\;\\;\\;\\;\\;\\;\\;4x -3} \\end{equation}\n",
    "\\begin{equation}- (\\;\\;\\;\\;\\;\\;\\;\\;\\;\\;\\;\\;4x -8) \\end{equation}\n",
    "\\begin{equation}\\;\\;\\;\\;\\;\\overline{\\;\\;\\;\\;\\;\\;\\;\\;\\;\\;\\;\\;\\;\\;\\;\\;5} \\end{equation}\n",
    "\n",
    "\\begin{equation}x + 4 + \\frac{5}{x-2} \\end{equation}"
   ]
  },
  {
   "cell_type": "code",
   "execution_count": 78,
   "metadata": {
    "slideshow": {
     "slide_type": "subslide"
    }
   },
   "outputs": [
    {
     "data": {
      "text/plain": [
       "True"
      ]
     },
     "execution_count": 78,
     "metadata": {},
     "output_type": "execute_result"
    }
   ],
   "source": [
    "x = randint(3,100)\n",
    "\n",
    "(x**2 + 2*x -3)/(x-2) == x + 4 + (5/(x-2))\n",
    "                                "
   ]
  },
  {
   "cell_type": "markdown",
   "metadata": {
    "slideshow": {
     "slide_type": "subslide"
    }
   },
   "source": [
    "# 因式\n",
    "\n",
    "\n",
    "16可以如下表示\n",
    "- 1 x 16\n",
    "- 2 x 8\n",
    "- 4 x 4\n",
    "\n",
    "或者 1, 2, 4, 8 是 16 的因子\n",
    "\n",
    "## 用多项式乘来表示多项式\n",
    "\n",
    "\\begin{equation}-6x^{2}y^{3} \\end{equation}\n",
    "\n",
    "\\begin{equation}(2xy^{2})(-3xy) \\end{equation}"
   ]
  },
  {
   "cell_type": "markdown",
   "metadata": {
    "slideshow": {
     "slide_type": "subslide"
    }
   },
   "source": [
    "又如\n",
    "\n",
    "\\begin{equation}(x + 2)(2x^{2} - 3y + 2) = 2x^{3} + 4x^{2} - 3xy + 2x - 6y + 4 \\end{equation}\n",
    "\n",
    "那么**x+2** 和 **2x<sup>2</sup> - 3y + 2** 都是 **2x<sup>3</sup> + 4x<sup>2</sup> - 3xy + 2x - 6y + 4**的因子"
   ]
  },
  {
   "cell_type": "markdown",
   "metadata": {
    "slideshow": {
     "slide_type": "subslide"
    }
   },
   "source": [
    "## 最大公共因子\n",
    "\n",
    "|   16   |   24   |\n",
    "|--------|--------|\n",
    "| 1 x 16 | 1 x 24 |\n",
    "| 2 x 8 | 2 x 12 |\n",
    "| 2 x **8**  | 3 x **8**  |\n",
    "| 4 x 4  | 4 x 6  |\n",
    "\n",
    "8是16和24的最大公约数\n",
    "\n",
    "\n",
    "\\begin{equation}15x^{2}y\\;\\;\\;\\;\\;\\;\\;\\;9xy^{3}\\end{equation}\n",
    "\n",
    "这两个多项式的最大公共因子是?"
   ]
  },
  {
   "cell_type": "markdown",
   "metadata": {
    "slideshow": {
     "slide_type": "subslide"
    }
   },
   "source": [
    "## 最大公共因子\n",
    "\n",
    "先看系数，他们都包含**3** \n",
    "- 3 x 5 = 15  \n",
    "- 3 x 3 = 9\n",
    "\n",
    "\n",
    "再看***x***项， x<sup>2</sup> 和 x。\n",
    "\n",
    "最后看***y***项, y 和 y<sup>3</sup>。\n",
    "\n",
    "\n",
    "最大公共因子是\n",
    "\\begin{equation}3xy\\end{equation}"
   ]
  },
  {
   "cell_type": "markdown",
   "metadata": {
    "slideshow": {
     "slide_type": "subslide"
    }
   },
   "source": [
    "## 最大公共因子\n",
    "\n",
    "可见最大公共因子总包括\n",
    "\n",
    "- 系数的最大公约数\n",
    "- 变量指数的最小值\n",
    "\n",
    "用多项式除来验证：\n",
    "\n",
    "\\begin{equation}\\frac{15x^{2}y}{3xy}\\;\\;\\;\\;\\;\\;\\;\\;\\frac{9xy^{3}}{3xy}\\end{equation}\n",
    "\n",
    "\\begin{equation}3xy(5x) = 15x^{2}y\\end{equation}\n",
    "\\begin{equation}3xy(3y^{2}) = 9xy^{3}\\end{equation}"
   ]
  },
  {
   "cell_type": "code",
   "execution_count": 79,
   "metadata": {
    "slideshow": {
     "slide_type": "subslide"
    }
   },
   "outputs": [
    {
     "name": "stdout",
     "output_type": "stream",
     "text": [
      "True\n",
      "True\n"
     ]
    }
   ],
   "source": [
    "x = randint(1,100)\n",
    "y = randint(1,100)\n",
    "\n",
    "print((3*x*y)*(5*x) == 15*x**2*y)\n",
    "print((3*x*y)*(3*y**2) == 9*x*y**3)"
   ]
  },
  {
   "cell_type": "markdown",
   "metadata": {
    "slideshow": {
     "slide_type": "subslide"
    }
   },
   "source": [
    "## 用系数最大公约数作因式分解\n",
    "\n",
    "\\begin{equation}6x + 15y \\end{equation}\n",
    "\n",
    "\\begin{equation}6x + 15y = 3(2x) + 3(5y) \\end{equation}\n",
    "\n",
    "\\begin{equation}6x + 15y = 3(2x) + 3(5y) = \\mathbf{3(2x + 5y)} \\end{equation}"
   ]
  },
  {
   "cell_type": "code",
   "execution_count": 80,
   "metadata": {
    "slideshow": {
     "slide_type": "subslide"
    }
   },
   "outputs": [
    {
     "data": {
      "text/plain": [
       "True"
      ]
     },
     "execution_count": 80,
     "metadata": {},
     "output_type": "execute_result"
    }
   ],
   "source": [
    "x = randint(1,100)\n",
    "y = randint(1,100)\n",
    "\n",
    "(6*x + 15*y) == (3*(2*x) + 3*(5*y)) == (3*(2*x + 5*y))"
   ]
  },
  {
   "cell_type": "markdown",
   "metadata": {
    "slideshow": {
     "slide_type": "subslide"
    }
   },
   "source": [
    "## 用最大公共因子作因式分解\n",
    "\\begin{equation}15x^{2}y + 9xy^{3}\\end{equation}\n",
    "\n",
    "\n",
    "\\begin{equation}3xy(5x) = 15x^{2}y\\end{equation}\n",
    "\\begin{equation}3xy(3y^{2}) = 9xy^{3}\\end{equation}\n",
    "\n",
    "\n",
    "\\begin{equation}15x^{2}y + 9xy^{3} = \\mathbf{3xy(5x + 3y^{2})}\\end{equation}"
   ]
  },
  {
   "cell_type": "code",
   "execution_count": 81,
   "metadata": {
    "slideshow": {
     "slide_type": "subslide"
    }
   },
   "outputs": [
    {
     "data": {
      "text/plain": [
       "True"
      ]
     },
     "execution_count": 81,
     "metadata": {},
     "output_type": "execute_result"
    }
   ],
   "source": [
    "x = randint(1,100)\n",
    "y = randint(1,100)\n",
    "\n",
    "(15*x**2*y + 9*x*y**3) == (3*x*y*(5*x + 3*y**2))"
   ]
  },
  {
   "cell_type": "markdown",
   "metadata": {
    "slideshow": {
     "slide_type": "subslide"
    }
   },
   "source": [
    "## 用平方差公式作因式分解\n",
    "\n",
    "\\begin{equation}x^{2} - 9\\end{equation}\n",
    "\n",
    "\\begin{equation}x^{2} - 3^{2}\\end{equation}\n",
    "\n",
    "\\begin{equation}(x - 3)(x + 3)\\end{equation}"
   ]
  },
  {
   "cell_type": "code",
   "execution_count": 82,
   "metadata": {
    "slideshow": {
     "slide_type": "subslide"
    }
   },
   "outputs": [
    {
     "data": {
      "text/plain": [
       "True"
      ]
     },
     "execution_count": 82,
     "metadata": {},
     "output_type": "execute_result"
    }
   ],
   "source": [
    "x = randint(1,100)\n",
    "\n",
    "(x**2 - 9) == (x - 3)*(x + 3)"
   ]
  },
  {
   "cell_type": "markdown",
   "metadata": {
    "slideshow": {
     "slide_type": "subslide"
    }
   },
   "source": [
    "## 用平方作因式分解\n",
    "\\begin{equation}x^{2} + 10x + 25\\end{equation}\n",
    "\n",
    "\\begin{equation}(x + 5)(x + 5)\\end{equation}\n",
    "\n",
    "\\begin{equation}(x + 5)^{2}\\end{equation}\n",
    "\n",
    "一般的\n",
    "\\begin{equation}(a + b)^{2} = a^{2} + b^{2}+ 2ab \\end{equation}"
   ]
  },
  {
   "cell_type": "code",
   "execution_count": 83,
   "metadata": {
    "slideshow": {
     "slide_type": "subslide"
    }
   },
   "outputs": [
    {
     "data": {
      "text/plain": [
       "True"
      ]
     },
     "execution_count": 83,
     "metadata": {},
     "output_type": "execute_result"
    }
   ],
   "source": [
    "a = randint(1,100)\n",
    "b = randint(1,100)\n",
    "\n",
    "a**2 + b**2 + (2*a*b) == (a + b)**2"
   ]
  },
  {
   "cell_type": "markdown",
   "metadata": {
    "slideshow": {
     "slide_type": "subslide"
    }
   },
   "source": [
    "# 二次方程\n",
    "\n",
    "\\begin{equation}y = 2(x - 1)(x + 2)\\end{equation}\n",
    "\n",
    "\\begin{equation}y = 2x^{2} + 2x - 4\\end{equation}"
   ]
  },
  {
   "cell_type": "code",
   "execution_count": 84,
   "metadata": {
    "slideshow": {
     "slide_type": "subslide"
    }
   },
   "outputs": [
    {
     "data": {
      "image/png": "[encoded data removed]",
      "text/plain": [
       "<Figure size 432x288 with 1 Axes>"
      ]
     },
     "metadata": {
      "needs_background": "light"
     },
     "output_type": "display_data"
    }
   ],
   "source": [
    "x = np.array(range(-9, 9))\n",
    "y = 2 * x **2 + 2 * x - 4\n",
    "plt.plot(x, y, color=\"grey\")  # 画二次曲线 （抛物线）\n",
    "plt.xlabel('x')\n",
    "plt.ylabel('y')\n",
    "plt.grid()\n",
    "plt.axhline()\n",
    "plt.axvline()\n",
    "plt.show()"
   ]
  },
  {
   "cell_type": "markdown",
   "metadata": {
    "slideshow": {
     "slide_type": "subslide"
    }
   },
   "source": [
    ">会是什么形状？\n",
    "\n",
    "\\begin{equation}y = -2x^{2} + 6x + 7\\end{equation}"
   ]
  },
  {
   "cell_type": "code",
   "execution_count": 85,
   "metadata": {
    "slideshow": {
     "slide_type": "subslide"
    }
   },
   "outputs": [
    {
     "data": {
      "image/png": "[encoded data removed]",
      "text/plain": [
       "<Figure size 432x288 with 1 Axes>"
      ]
     },
     "metadata": {
      "needs_background": "light"
     },
     "output_type": "display_data"
    }
   ],
   "source": [
    "x = np.array(range(-8, 12))\n",
    "y = -2 * x ** 2 + 6 * x + 7\n",
    "plt.plot(x, y, color=\"grey\")\n",
    "plt.xlabel('x')\n",
    "plt.ylabel('y')\n",
    "plt.grid()\n",
    "plt.axhline()\n",
    "plt.axvline()\n",
    "plt.show()"
   ]
  },
  {
   "cell_type": "markdown",
   "metadata": {
    "slideshow": {
     "slide_type": "subslide"
    }
   },
   "source": [
    "## 抛物线的顶点\n",
    "\\begin{equation}y = ax^{2} + bx + c\\end{equation}\n",
    "\n",
    "***a***, ***b***, ***c***是系数\n",
    "\n",
    "它产生的抛物线有顶点，或者是最高点，或者是最低点。"
   ]
  },
  {
   "cell_type": "code",
   "execution_count": 86,
   "metadata": {
    "slideshow": {
     "slide_type": "subslide"
    }
   },
   "outputs": [],
   "source": [
    "def plot_parabola(a, b, c):\n",
    "    vx = (-1*b)/(2*a)              # 顶点\n",
    "    vy = a*vx**2 + b*vx + c\n",
    "\n",
    "    minx = int(vx - 10)            # 范围\n",
    "    maxx = int(vx + 11)\n",
    "    x = np.array(range(minx, maxx))\n",
    "    y = a * x ** 2 + b * x + c\n",
    "    miny = y.min()\n",
    "    maxy = y.max()\n",
    "\n",
    "    plt.plot(x, y, color=\"grey\")    # 画曲线\n",
    "    plt.xlabel('x')\n",
    "    plt.ylabel('y')\n",
    "    plt.grid()\n",
    "    plt.axhline()\n",
    "    plt.axvline()\n",
    "\n",
    "    sx = [vx, vx]                   # 画中心线\n",
    "    sy = [miny, maxy]\n",
    "    plt.plot(sx, sy, color='magenta')\n",
    "\n",
    "    plt.scatter(vx,vy, color=\"red\") # 画顶点\n"
   ]
  },
  {
   "cell_type": "code",
   "execution_count": 87,
   "metadata": {
    "slideshow": {
     "slide_type": "subslide"
    }
   },
   "outputs": [
    {
     "data": {
      "image/png": "[encoded data removed]",
      "text/plain": [
       "<Figure size 432x288 with 1 Axes>"
      ]
     },
     "metadata": {
      "needs_background": "light"
     },
     "output_type": "display_data"
    },
    {
     "data": {
      "image/png": "[encoded data removed]",
      "text/plain": [
       "<Figure size 432x288 with 1 Axes>"
      ]
     },
     "metadata": {
      "needs_background": "light"
     },
     "output_type": "display_data"
    }
   ],
   "source": [
    "plot_parabola(2, 2, -4)\n",
    "plt.show()\n",
    "plot_parabola(-2, 3, 5)\n",
    "plt.show()"
   ]
  },
  {
   "cell_type": "markdown",
   "metadata": {
    "slideshow": {
     "slide_type": "subslide"
    }
   },
   "source": [
    "## 抛物线的交点（二次方程的解）\n",
    "\n",
    "\\begin{equation}y = 2(x - 1)(x + 2)\\end{equation}\n",
    "\n",
    "\\begin{equation}2(x - 1)(x + 2) = 0\\end{equation}\n",
    "\n",
    "\\begin{equation}x = 1\\end{equation}\n",
    "\n",
    "\\begin{equation}x = -2\\end{equation}"
   ]
  },
  {
   "cell_type": "code",
   "execution_count": 88,
   "metadata": {
    "slideshow": {
     "slide_type": "subslide"
    }
   },
   "outputs": [
    {
     "data": {
      "image/png": "[encoded data removed]",
      "text/plain": [
       "<Figure size 432x288 with 1 Axes>"
      ]
     },
     "metadata": {
      "needs_background": "light"
     },
     "output_type": "display_data"
    }
   ],
   "source": [
    "# 画曲线\n",
    "plot_parabola(2, 2, -4)\n",
    "\n",
    "# 画交点\n",
    "x1 = -2\n",
    "x2 = 1\n",
    "plt.scatter([x1,x2],[0,0], color=\"green\")\n",
    "plt.annotate('x1',(x1, 0))\n",
    "plt.annotate('x2',(x2, 0))\n",
    "\n",
    "plt.show()\n"
   ]
  },
  {
   "cell_type": "markdown",
   "metadata": {
    "slideshow": {
     "slide_type": "subslide"
    }
   },
   "source": [
    "## 二次方程的解公式\n",
    "\\begin{equation}ax^{2} + bx + c = 0\\end{equation}\n",
    "\n",
    "\n",
    "\\begin{equation}x = \\frac{-b \\pm \\sqrt{b^{2} - 4ac}}{2a}\\end{equation}"
   ]
  },
  {
   "cell_type": "code",
   "execution_count": 89,
   "metadata": {
    "slideshow": {
     "slide_type": "subslide"
    }
   },
   "outputs": [
    {
     "data": {
      "image/png": "[encoded data removed]",
      "text/plain": [
       "<Figure size 432x288 with 1 Axes>"
      ]
     },
     "metadata": {
      "needs_background": "light"
     },
     "output_type": "display_data"
    }
   ],
   "source": [
    "def plot_parabola_from_formula (a, b, c):\n",
    "    plot_parabola(a, b, c)                      # 画曲线\n",
    "\n",
    "    x1 = (-b + (b*b - 4*a*c)**0.5)/(2 * a)\n",
    "    x2 = (-b - (b*b - 4*a*c)**0.5)/(2 * a)\n",
    "\n",
    "    plt.scatter([x1, x2], [0, 0], color=\"green\") # 画解\n",
    "    plt.annotate('x1', (x1, 0))\n",
    "    plt.annotate('x2', (x2, 0))\n",
    "    plt.show()\n",
    "    \n",
    "\n",
    "plot_parabola_from_formula (2, -16, 2)"
   ]
  },
  {
   "cell_type": "markdown",
   "metadata": {
    "slideshow": {
     "slide_type": "slide"
    }
   },
   "source": [
    "# 函数\n",
    "\n",
    "\\begin{equation}f(x) = x^{2} + 2\\end{equation}\n",
    "\n",
    "\\begin{equation}f(3) = 11\\end{equation}"
   ]
  },
  {
   "cell_type": "code",
   "execution_count": 90,
   "metadata": {
    "slideshow": {
     "slide_type": "subslide"
    }
   },
   "outputs": [
    {
     "data": {
      "text/plain": [
       "11"
      ]
     },
     "execution_count": 90,
     "metadata": {},
     "output_type": "execute_result"
    }
   ],
   "source": [
    "def f(x):\n",
    "    return x**2 + 2\n",
    "\n",
    "f(3)"
   ]
  },
  {
   "cell_type": "code",
   "execution_count": 91,
   "metadata": {
    "slideshow": {
     "slide_type": "subslide"
    }
   },
   "outputs": [
    {
     "data": {
      "image/png": "[encoded data removed]",
      "text/plain": [
       "<Figure size 432x288 with 1 Axes>"
      ]
     },
     "metadata": {
      "needs_background": "light"
     },
     "output_type": "display_data"
    }
   ],
   "source": [
    "x = np.array(range(-100, 101))\n",
    "\n",
    "plt.xlabel('x')\n",
    "plt.ylabel('f(x)')\n",
    "plt.grid()\n",
    "\n",
    "plt.plot(x, f(x), color='purple')\n",
    "\n",
    "plt.show()"
   ]
  },
  {
   "cell_type": "markdown",
   "metadata": {
    "slideshow": {
     "slide_type": "subslide"
    }
   },
   "source": [
    "## 函数的定义域\n",
    "\n",
    "\\begin{equation}f(x) = x + 1, \\{x \\in \\rm I\\!R\\}\\end{equation}\n",
    "\n",
    "\n",
    "\\begin{equation}g(x) = (\\frac{12}{2x})^{2}, \\{x \\in \\rm I\\!R\\;\\;|\\;\\; x \\ne 0 \\}\\end{equation}\n",
    "\n",
    "\n",
    "简化形式：\n",
    "\\begin{equation}g(x) = (\\frac{12}{2x})^{2},\\;\\; x \\ne 0\\end{equation}"
   ]
  },
  {
   "cell_type": "code",
   "execution_count": 92,
   "metadata": {
    "slideshow": {
     "slide_type": "subslide"
    }
   },
   "outputs": [
    {
     "name": "stdout",
     "output_type": "stream",
     "text": [
      "3600.0\n"
     ]
    },
    {
     "data": {
      "image/png": "[encoded data removed]",
      "text/plain": [
       "<Figure size 432x288 with 1 Axes>"
      ]
     },
     "metadata": {
      "needs_background": "light"
     },
     "output_type": "display_data"
    }
   ],
   "source": [
    "def g(x):\n",
    "    if x != 0:\n",
    "        return (12/(2*x))**2\n",
    "\n",
    "x = range(-100, 101)\n",
    "y = [g(a) for a in x]\n",
    "\n",
    "print(g(0.1))\n",
    "plt.xlabel('x')\n",
    "plt.ylabel('g(x)')\n",
    "plt.grid()\n",
    "plt.plot(x, y, color='purple')\n",
    "\n",
    "# 绘制临界点， 如果取接近0的值，临界点附件函数的形状变得不可见\n",
    "plt.plot(0, g(1), color='purple', marker='o', markerfacecolor='w', markersize=8)\n",
    "plt.show()"
   ]
  },
  {
   "cell_type": "markdown",
   "metadata": {
    "slideshow": {
     "slide_type": "subslide"
    }
   },
   "source": [
    "\\begin{equation}h(x) = 2\\sqrt{x}, \\{x \\in \\rm I\\!R\\;\\;|\\;\\; x \\ge 0 \\}\\end{equation}\n"
   ]
  },
  {
   "cell_type": "code",
   "execution_count": 93,
   "metadata": {
    "slideshow": {
     "slide_type": "subslide"
    }
   },
   "outputs": [
    {
     "data": {
      "image/png": "[encoded data removed]",
      "text/plain": [
       "<Figure size 432x288 with 1 Axes>"
      ]
     },
     "metadata": {
      "needs_background": "light"
     },
     "output_type": "display_data"
    }
   ],
   "source": [
    "def h(x):\n",
    "    if x >= 0:\n",
    "        return 2 * np.sqrt(x)\n",
    "\n",
    "x = range(-100, 101)\n",
    "y = [h(a) for a in x]\n",
    "\n",
    "plt.xlabel('x')\n",
    "plt.ylabel('h(x)')\n",
    "plt.grid()\n",
    "\n",
    "plt.plot(x, y, color='purple')\n",
    "# 画出边界\n",
    "plt.plot(0, h(0), color='purple', marker='o', markerfacecolor='purple', markersize=8)\n",
    "\n",
    "plt.show()"
   ]
  },
  {
   "cell_type": "markdown",
   "metadata": {
    "slideshow": {
     "slide_type": "subslide"
    }
   },
   "source": [
    "\n",
    "\\begin{equation}j(x) = x + 2,\\;\\; x \\ge 0 \\text{ and } x \\le 5\\end{equation}\n",
    "\n",
    "\n",
    "\\begin{equation}\\{x \\in \\rm I\\!R\\;\\;|\\;\\; 0 \\le x \\le 5 \\}\\end{equation}"
   ]
  },
  {
   "cell_type": "code",
   "execution_count": 94,
   "metadata": {
    "slideshow": {
     "slide_type": "subslide"
    }
   },
   "outputs": [
    {
     "data": {
      "image/png": "[encoded data removed]",
      "text/plain": [
       "<Figure size 432x288 with 1 Axes>"
      ]
     },
     "metadata": {
      "needs_background": "light"
     },
     "output_type": "display_data"
    }
   ],
   "source": [
    "def j(x):\n",
    "    if x >= 0 and x <= 5:\n",
    "        return x + 2\n",
    "\n",
    "x = range(-100, 101)\n",
    "y = [j(a) for a in x]\n",
    "\n",
    "plt.xlabel('x')\n",
    "plt.ylabel('j(x)')\n",
    "plt.grid()\n",
    "\n",
    "plt.plot(x, y, color='purple')\n",
    "\n",
    "# 两个边界点\n",
    "plt.plot(0, j(0), color='purple', marker='o', markerfacecolor='purple', markersize=8)\n",
    "plt.plot(5, j(5), color='purple', marker='o', markerfacecolor='purple', markersize=8)\n",
    "\n",
    "plt.show()"
   ]
  },
  {
   "cell_type": "markdown",
   "metadata": {
    "slideshow": {
     "slide_type": "subslide"
    }
   },
   "source": [
    "### 阶梯函数\n",
    "\n",
    "\\begin{equation}\n",
    "k(x) = \\begin{cases}\n",
    "  0, & \\text{if } x = 0, \\\\\n",
    "  1, & \\text{if } x = 100\n",
    "\\end{cases}\n",
    "\\end{equation}"
   ]
  },
  {
   "cell_type": "code",
   "execution_count": 95,
   "metadata": {
    "slideshow": {
     "slide_type": "subslide"
    }
   },
   "outputs": [
    {
     "data": {
      "image/png": "[encoded data removed]",
      "text/plain": [
       "<Figure size 432x288 with 1 Axes>"
      ]
     },
     "metadata": {
      "needs_background": "light"
     },
     "output_type": "display_data"
    }
   ],
   "source": [
    "def k(x):\n",
    "    if x == 0:\n",
    "        return 0\n",
    "    elif x == 100:\n",
    "        return 1\n",
    "\n",
    "x = range(-100, 101)\n",
    "y = [k(a) for a in x]\n",
    "\n",
    "plt.xlabel('x')\n",
    "plt.ylabel('k(x)')\n",
    "plt.grid()\n",
    "\n",
    "\n",
    "plt.scatter(x, y, color='purple')\n",
    "\n",
    "plt.show()"
   ]
  },
  {
   "cell_type": "markdown",
   "metadata": {
    "slideshow": {
     "slide_type": "subslide"
    }
   },
   "source": [
    "### 函数的值域\n",
    "\\begin{equation}p(x) = x^{2} + 1\\end{equation}\n",
    "\n",
    "\\begin{equation}\\{p(x) \\in \\rm I\\!R\\;\\;|\\;\\; p(x) \\ge 1 \\}\\end{equation}"
   ]
  },
  {
   "cell_type": "code",
   "execution_count": 96,
   "metadata": {
    "slideshow": {
     "slide_type": "subslide"
    }
   },
   "outputs": [
    {
     "data": {
      "image/png": "[encoded data removed]",
      "text/plain": [
       "<Figure size 432x288 with 1 Axes>"
      ]
     },
     "metadata": {
      "needs_background": "light"
     },
     "output_type": "display_data"
    }
   ],
   "source": [
    "def p(x):\n",
    "    return x**2 + 1\n",
    "\n",
    "x = np.array(range(-100, 101))\n",
    "\n",
    "plt.xlabel('x')\n",
    "plt.ylabel('p(x)')\n",
    "plt.grid()\n",
    "\n",
    "plt.plot(x, p(x), color='purple')\n",
    "\n",
    "plt.show()"
   ]
  }
 ],
 "metadata": {
  "celltoolbar": "Slideshow",
  "kernelspec": {
   "display_name": "Python 3",
   "language": "python",
   "name": "python3"
  },
  "language_info": {
   "codemirror_mode": {
    "name": "ipython",
    "version": 3
   },
   "file_extension": ".py",
   "mimetype": "text/x-python",
   "name": "python",
   "nbconvert_exporter": "python",
   "pygments_lexer": "ipython3",
   "version": "3.6.5"
  },
  "livereveal": {
   "scroll": true
  },
  "rise": {
   "enable_chalkboard": true
  }
 },
 "nbformat": 4,
 "nbformat_minor": 2
}
